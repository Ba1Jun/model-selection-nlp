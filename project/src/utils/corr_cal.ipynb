{
 "cells": [
  {
   "cell_type": "code",
   "execution_count": 3,
   "id": "1861a66e-37d6-4d10-ab97-2a9bc5150610",
   "metadata": {},
   "outputs": [],
   "source": [
    "a = 1\n",
    "def plus():\n",
    "    global a\n",
    "    a += 1\n",
    "    print(a)"
   ]
  },
  {
   "cell_type": "code",
   "execution_count": null,
   "id": "8c791d86-28c0-4046-9c75-4d9dda40c8d7",
   "metadata": {},
   "outputs": [],
   "source": []
  },
  {
   "cell_type": "code",
   "execution_count": null,
   "id": "d6c4e999-f972-4de6-81ef-b03398f2f421",
   "metadata": {},
   "outputs": [],
   "source": []
  },
  {
   "cell_type": "code",
   "execution_count": null,
   "id": "bd730b63-e848-4d9e-9ab8-538436e66209",
   "metadata": {},
   "outputs": [],
   "source": []
  },
  {
   "cell_type": "code",
   "execution_count": 1,
   "id": "5f6463ec-43f7-40bb-81c3-bb5c666d41c3",
   "metadata": {},
   "outputs": [],
   "source": [
    "import transformers"
   ]
  },
  {
   "cell_type": "code",
   "execution_count": 2,
   "id": "ef453e9d-58ce-4b4a-a601-82bcd7d8bd5b",
   "metadata": {},
   "outputs": [],
   "source": [
    "import numpy as np\n",
    "from scipy.stats import pearsonr\n",
    "from scipy.stats import weightedtau"
   ]
  },
  {
   "cell_type": "code",
   "execution_count": 23,
   "id": "3e755a63-be91-43ca-ad2a-9454a4048d98",
   "metadata": {},
   "outputs": [],
   "source": [
    "gt_dict = {\n",
    "    # Classification\n",
    "    \"agnews\": {\n",
    "        \"mean\": {\n",
    "            \"frozen\": [92.62, 93.30, 92.26, 87.52, 90.05, 92.55, 90.06],\n",
    "            \"tuned\": [93.51, 91.70, 93.85, 92.62, 93.16, 93.34, 92.40]\n",
    "        },\n",
    "        \"first\": {\n",
    "            \"frozen\": [91.52, 92.71, 91.65, 84.50, 88.84, 93.16, 89.25],\n",
    "            \"tuned\": [93.51, 92.57, 93.77, 93.05, 93.19, 93.15, 92.32]\n",
    "        }\n",
    "    },\n",
    "    \n",
    "    \"arline\": {\n",
    "        \"mean\": {\n",
    "            \"frozen\": [82.58, 84.10, 81.71, 78.46, 76.67, 84.89, 77.58],\n",
    "            \"tuned\": [84.03, 85.43, 83.89, 83.17, 82.55, 86.05, 82.05]\n",
    "        },\n",
    "        \"first\": {\n",
    "            \"frozen\": [80.88, 83.29, 79.95, 75.98, 75.50, 84.57, 76.01],\n",
    "            \"tuned\": [84.27, 85.19, 83.99, 82.70, 81.62, 85.51, 82.27]\n",
    "        }\n",
    "    },\n",
    "    \n",
    "    \"scierc\": {\n",
    "        \"mean\": {\n",
    "            \"frozen\": [49.56, 51.07, 45.98, 48.64, 56.64, 46.75, 58.83],\n",
    "            \"tuned\": [75.84, 78.80, 73.13, 73.61, 81.60, 76.65, 80.12]\n",
    "        },\n",
    "        \"first\": {\n",
    "            \"frozen\": [41.94, 40.51, 41.35, 42.94, 41.98, 42.87, 45.35],\n",
    "            \"tuned\": [80.20, 67.71, 75.95, 76.57, 83.89, 78.25, 82.93]\n",
    "        }\n",
    "    },\n",
    "    \n",
    "    \"mnli\": {\n",
    "        \"mean\": {\n",
    "            \"frozen\": [59.18, 64.18, 58.13, 56.53, 60.12, 61.77, 59.57],\n",
    "            \"tuned\": [81.85, 86.57, 79.64, 79.21, 80.89, 85.41, 80.41]\n",
    "        },\n",
    "        \"first\": {\n",
    "            \"frozen\": [59.64, 61.48, 57.13, 57.52, 62.40, 59.23, 61.59],\n",
    "            \"tuned\": [82.23, 86.71, 80.54, 79.54, 80.84, 85.32, 80.40]\n",
    "        }\n",
    "    },\n",
    "    \n",
    "    \"qnli\": {\n",
    "        \"mean\": {\n",
    "            \"frozen\": [75.75, 78.09, 74.25, 74.69, 78.21, 77.49, 76.84],\n",
    "            \"tuned\": [88.17, 92.17, 86.26, 84.13, 88.19, 91.22, 87.24]\n",
    "        },\n",
    "        \"first\": {\n",
    "            \"frozen\": [72.23, 74.42, 71.55, 73.67, 77.25, 73.99, 76.31],\n",
    "            \"tuned\": [88.46, 92.23, 86.68, 84.31, 88.57, 91.03, 86.77]\n",
    "        }\n",
    "    },\n",
    "    \n",
    "    \"rte\": {\n",
    "        \"mean\": {\n",
    "            \"frozen\": [56.26, 58.35, 53.96, 58.13, 56.97, 54.02, 55.46],\n",
    "            \"tuned\": [62.09, 68.99, 57.63, 58.99, 59.98, 66.63, 64.65]\n",
    "        },\n",
    "        \"first\": {\n",
    "            \"frozen\": [58.56, 56.04, 55.40, 55.46, 58.05, 54.10, 59.64],\n",
    "            \"tuned\": [60.14, 67.05, 60.07, 57.64, 63.12, 63.21, 64.83]\n",
    "        }\n",
    "    },\n",
    "    # Structured Prediction\n",
    "    \"en-ewt\": {\n",
    "        \"mean\": {\n",
    "            \"frozen\": [85.04, 86.10, 86.98, 85.05, 85.95, 86.50, 87.54],\n",
    "            \"tuned\": [94.16, 94.85, 93.36, 93.10, 93.16, 94.82, 93.29]\n",
    "        }\n",
    "    },\n",
    "    \n",
    "    \"crossner-news\": {\n",
    "        \"mean\": {\n",
    "            \"frozen\": [87.66, 88.08, 88.41, 69.86, 81.48, 88.55, 82.38],\n",
    "            \"tuned\": [92.53, 94.59, 91.21, 78.01, 89.63, 94.23, 88.16]\n",
    "        }\n",
    "    },\n",
    "    \n",
    "    \"crossner-sci\": {\n",
    "        \"mean\": {\n",
    "            \"frozen\": [43.22, 47.00, 45.96, 32.89, 43.24, 45.51, 43.98],\n",
    "            \"tuned\": [38.68, 62.27, 37.97, 20.96, 47.73, 54.05, 53.44]\n",
    "        }\n",
    "    },\n",
    "    \n",
    "    \"jobstack\": {\n",
    "        \"mean\": {\n",
    "            \"frozen\": [73.64, 74.06, 74.96, 61.13, 68.32, 73.72, 71.66],\n",
    "            \"tuned\": [78.49, 81.51, 77.02, 67.07, 74.65, 79.99, 78.72]\n",
    "        }\n",
    "    },\n",
    "}"
   ]
  },
  {
   "cell_type": "code",
   "execution_count": 28,
   "id": "f03c1320-b724-4522-b7cc-d53597f2b04d",
   "metadata": {},
   "outputs": [
    {
     "name": "stdout",
     "output_type": "stream",
     "text": [
      "[-0.716, -0.7133, -0.722, -0.7155, -0.716, -0.7176, -0.7121]\n",
      "\n",
      "mean LogME frozen\n",
      "PearsonRResult(statistic=0.6054210583777564, pvalue=0.14970124425263165)\n",
      "SignificanceResult(statistic=0.4497090036207916, pvalue=nan)\n",
      "\n",
      "mean LogME tuned\n",
      "PearsonRResult(statistic=0.5814238938691502, pvalue=0.17094338198466488)\n",
      "SignificanceResult(statistic=0.32443900565190925, pvalue=nan)\n"
     ]
    }
   ],
   "source": [
    "dataset = 'rte'\n",
    "pooling = 'mean'\n",
    "method = 'LogME'\n",
    "result_file = f'../../resources/output/{dataset}/results/{method}_{pooling}.txt'\n",
    "with open(result_file, 'r', encoding='utf-8') as f:\n",
    "    result_lines = f.readlines()\n",
    "pred_list = []\n",
    "for line in result_lines:\n",
    "    score = line.strip().split(' ')[-1]\n",
    "    pred_list.append(float(score))\n",
    "pred_list = [-0.7160, -0.7133, -0.7220, -0.7155, -0.7160, -0.7176, -0.7121]\n",
    "print(pred_list, end='\\n\\n')\n",
    "\n",
    "print(pooling, method, 'frozen')\n",
    "print(pearsonr(pred_list, gt_dict[dataset][pooling]['frozen']))\n",
    "print(weightedtau(pred_list, gt_dict[dataset][pooling]['frozen']), end='\\n\\n')\n",
    "\n",
    "print(pooling, method, 'tuned')\n",
    "print(pearsonr(pred_list, gt_dict[dataset][pooling]['tuned']))\n",
    "print(weightedtau(pred_list, gt_dict[dataset][pooling]['tuned']))"
   ]
  },
  {
   "cell_type": "code",
   "execution_count": 25,
   "id": "e9efda0d-9e38-430e-b3bc-1acf1a7c131b",
   "metadata": {},
   "outputs": [
    {
     "data": {
      "text/plain": [
       "0.712561253640096"
      ]
     },
     "execution_count": 25,
     "metadata": {},
     "output_type": "execute_result"
    }
   ],
   "source": [
    "pearsonr(pred_list, gt_dict[dataset][pooling]['frozen']).statistic"
   ]
  },
  {
   "cell_type": "code",
   "execution_count": null,
   "id": "482bd6db-1805-472d-9cf7-4d64ad2733c8",
   "metadata": {},
   "outputs": [],
   "source": []
  }
 ],
 "metadata": {
  "kernelspec": {
   "display_name": "Python 3 (ipykernel)",
   "language": "python",
   "name": "python3"
  },
  "language_info": {
   "codemirror_mode": {
    "name": "ipython",
    "version": 3
   },
   "file_extension": ".py",
   "mimetype": "text/x-python",
   "name": "python",
   "nbconvert_exporter": "python",
   "pygments_lexer": "ipython3",
   "version": "3.8.16"
  }
 },
 "nbformat": 4,
 "nbformat_minor": 5
}
